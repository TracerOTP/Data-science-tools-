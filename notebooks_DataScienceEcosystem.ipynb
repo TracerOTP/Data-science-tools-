{
  "metadata": {
    "kernelspec": {
      "name": "python",
      "display_name": "Python (Pyodide)",
      "language": "python"
    },
    "language_info": {
      "codemirror_mode": {
        "name": "python",
        "version": 3
      },
      "file_extension": ".py",
      "mimetype": "text/x-python",
      "name": "python",
      "nbconvert_exporter": "python",
      "pygments_lexer": "ipython3",
      "version": "3.8"
    }
  },
  "nbformat_minor": 5,
  "nbformat": 4,
  "cells": [
    {
      "cell_type": "markdown",
      "source": "# Data Science Tools and Ecosystem",
      "metadata": {},
      "id": "b6b5eade-f0b2-4360-9184-9bd959bc53ed"
    },
    {
      "cell_type": "markdown",
      "source": "In this notebook, Data Science Tools and Ecosystem are summarized.",
      "metadata": {},
      "id": "9fac315d-704c-4357-878b-c8b9653424ce"
    },
    {
      "cell_type": "markdown",
      "source": "Some of the popular languages that Data Scientists use are:\n\n1. Python \n1. R \n1. SQL \n\n\nSome of the commonly used libraries used by Data Scientists include:\n\n\n1. Pandas \n1. SKlearn \n1. Matplotlib ",
      "metadata": {},
      "id": "e3e13702-0e7c-4251-b172-96bd08c9166e"
    },
    {
      "cell_type": "markdown",
      "source": "| Data Science Tools | \n| --- | \n| Jupyter Notebook |\n| Github | \n| Anaconda | \n",
      "metadata": {},
      "id": "a6819ba7-b7a6-4e9b-8599-59097a7d370c"
    },
    {
      "cell_type": "markdown",
      "source": "**Objectives:** \n- Learn about tools \n- Learn about frameworks \n- Learn about languages ",
      "metadata": {},
      "id": "4ae1a5ea-5326-448a-99b3-13c54b2e3722"
    },
    {
      "cell_type": "markdown",
      "source": "### Below are a few examples of evaluating arithmetic expressions in Python.",
      "metadata": {},
      "id": "455732ed-7bd0-4429-8461-7eb99a89319c"
    },
    {
      "cell_type": "code",
      "source": "# This a simple arithmetic expression to mutiply then add integers\n\n(3*4)+5",
      "metadata": {
        "trusted": true
      },
      "execution_count": null,
      "outputs": [],
      "id": "882ad499-0667-4aa2-8937-453fb40722be"
    },
    {
      "cell_type": "code",
      "source": "# This will convert 200 minutes to hours by diving by 60\n\nh = 200 / 60 \nh",
      "metadata": {
        "trusted": true
      },
      "execution_count": null,
      "outputs": [],
      "id": "7c2664f8-bdba-406e-8eca-253e8eae2b35"
    },
    {
      "cell_type": "markdown",
      "source": "## Author \n\nFaisal ",
      "metadata": {},
      "id": "377e751f-6fb8-4257-bb6a-dda3661c63de"
    },
    {
      "cell_type": "code",
      "source": "",
      "metadata": {},
      "execution_count": null,
      "outputs": [],
      "id": "58dc0e05-3a5b-4cbc-9f98-5d7c06486693"
    }
  ]
}